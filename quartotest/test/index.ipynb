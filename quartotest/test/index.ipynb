{
  "cells": [
    {
      "cell_type": "raw",
      "metadata": {},
      "source": [
        "---\n",
        "title: \"Test\"\n",
        "---"
      ],
      "id": "84e4d7ab"
    },
    {
      "cell_type": "markdown",
      "metadata": {},
      "source": [
        "This is a Quarto website.\n",
        "\n",
        "To learn more about Quarto websites visit <https://quarto.org/docs/websites>.\n"
      ],
      "id": "80db4b10"
    },
    {
      "cell_type": "code",
      "metadata": {},
      "source": [
        "var x = 3\n",
        "\n",
        "print (x)"
      ],
      "id": "84c57ada",
      "execution_count": null,
      "outputs": []
    }
  ],
  "metadata": {
    "kernelspec": {
      "name": "python3",
      "language": "python",
      "display_name": "Python 3 (ipykernel)"
    }
  },
  "nbformat": 4,
  "nbformat_minor": 5
}