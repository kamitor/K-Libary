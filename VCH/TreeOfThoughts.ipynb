{
 "cells": [
  {
   "cell_type": "code",
   "execution_count": 6,
   "metadata": {},
   "outputs": [
    {
     "name": "stdout",
     "output_type": "stream",
     "text": [
      "Requirement already satisfied: langchain in .\\.venv\\lib\\site-packages (0.1.16)\n",
      "Requirement already satisfied: langchain_community in .\\.venv\\lib\\site-packages (0.0.34)\n",
      "Requirement already satisfied: PyYAML>=5.3 in .\\.venv\\lib\\site-packages (from langchain) (6.0.1)\n",
      "Requirement already satisfied: SQLAlchemy<3,>=1.4 in .\\.venv\\lib\\site-packages (from langchain) (2.0.30)\n",
      "Requirement already satisfied: aiohttp<4.0.0,>=3.8.3 in .\\.venv\\lib\\site-packages (from langchain) (3.9.5)\n",
      "Requirement already satisfied: dataclasses-json<0.7,>=0.5.7 in .\\.venv\\lib\\site-packages (from langchain) (0.6.5)\n",
      "Requirement already satisfied: jsonpatch<2.0,>=1.33 in .\\.venv\\lib\\site-packages (from langchain) (1.33)\n",
      "Requirement already satisfied: langchain-core<0.2.0,>=0.1.42 in .\\.venv\\lib\\site-packages (from langchain) (0.1.52)\n",
      "Requirement already satisfied: langchain-text-splitters<0.1,>=0.0.1 in .\\.venv\\lib\\site-packages (from langchain) (0.0.1)\n",
      "Requirement already satisfied: langsmith<0.2.0,>=0.1.17 in .\\.venv\\lib\\site-packages (from langchain) (0.1.56)\n",
      "Requirement already satisfied: numpy<2,>=1 in .\\.venv\\lib\\site-packages (from langchain) (1.26.4)\n",
      "Requirement already satisfied: pydantic<3,>=1 in .\\.venv\\lib\\site-packages (from langchain) (2.7.1)\n",
      "Requirement already satisfied: requests<3,>=2 in .\\.venv\\lib\\site-packages (from langchain) (2.31.0)\n",
      "Requirement already satisfied: tenacity<9.0.0,>=8.1.0 in .\\.venv\\lib\\site-packages (from langchain) (8.3.0)\n",
      "Requirement already satisfied: aiosignal>=1.1.2 in .\\.venv\\lib\\site-packages (from aiohttp<4.0.0,>=3.8.3->langchain) (1.3.1)\n",
      "Requirement already satisfied: attrs>=17.3.0 in .\\.venv\\lib\\site-packages (from aiohttp<4.0.0,>=3.8.3->langchain) (23.2.0)\n",
      "Requirement already satisfied: frozenlist>=1.1.1 in .\\.venv\\lib\\site-packages (from aiohttp<4.0.0,>=3.8.3->langchain) (1.4.1)\n",
      "Requirement already satisfied: multidict<7.0,>=4.5 in .\\.venv\\lib\\site-packages (from aiohttp<4.0.0,>=3.8.3->langchain) (6.0.5)\n",
      "Requirement already satisfied: yarl<2.0,>=1.0 in .\\.venv\\lib\\site-packages (from aiohttp<4.0.0,>=3.8.3->langchain) (1.9.4)\n",
      "Requirement already satisfied: marshmallow<4.0.0,>=3.18.0 in .\\.venv\\lib\\site-packages (from dataclasses-json<0.7,>=0.5.7->langchain) (3.21.2)\n",
      "Requirement already satisfied: typing-inspect<1,>=0.4.0 in .\\.venv\\lib\\site-packages (from dataclasses-json<0.7,>=0.5.7->langchain) (0.9.0)\n",
      "Requirement already satisfied: jsonpointer>=1.9 in .\\.venv\\lib\\site-packages (from jsonpatch<2.0,>=1.33->langchain) (2.4)\n",
      "Requirement already satisfied: packaging<24.0,>=23.2 in .\\.venv\\lib\\site-packages (from langchain-core<0.2.0,>=0.1.42->langchain) (23.2)\n",
      "Requirement already satisfied: orjson<4.0.0,>=3.9.14 in .\\.venv\\lib\\site-packages (from langsmith<0.2.0,>=0.1.17->langchain) (3.10.3)\n",
      "Requirement already satisfied: annotated-types>=0.4.0 in .\\.venv\\lib\\site-packages (from pydantic<3,>=1->langchain) (0.6.0)\n",
      "Requirement already satisfied: pydantic-core==2.18.2 in .\\.venv\\lib\\site-packages (from pydantic<3,>=1->langchain) (2.18.2)\n",
      "Requirement already satisfied: typing-extensions>=4.6.1 in .\\.venv\\lib\\site-packages (from pydantic<3,>=1->langchain) (4.11.0)\n",
      "Requirement already satisfied: charset-normalizer<4,>=2 in .\\.venv\\lib\\site-packages (from requests<3,>=2->langchain) (3.3.2)\n",
      "Requirement already satisfied: idna<4,>=2.5 in .\\.venv\\lib\\site-packages (from requests<3,>=2->langchain) (3.7)\n",
      "Requirement already satisfied: urllib3<3,>=1.21.1 in .\\.venv\\lib\\site-packages (from requests<3,>=2->langchain) (2.2.1)\n",
      "Requirement already satisfied: certifi>=2017.4.17 in .\\.venv\\lib\\site-packages (from requests<3,>=2->langchain) (2024.2.2)\n",
      "Requirement already satisfied: greenlet!=0.4.17 in .\\.venv\\lib\\site-packages (from SQLAlchemy<3,>=1.4->langchain) (3.0.3)\n",
      "Requirement already satisfied: mypy-extensions>=0.3.0 in .\\.venv\\lib\\site-packages (from typing-inspect<1,>=0.4.0->dataclasses-json<0.7,>=0.5.7->langchain) (1.0.0)\n",
      "Note: you may need to restart the kernel to use updated packages.\n"
     ]
    }
   ],
   "source": [
    "%pip install langchain langchain_community "
   ]
  },
  {
   "cell_type": "code",
   "execution_count": 64,
   "metadata": {},
   "outputs": [],
   "source": [
    "from langchain.prompts import ChatPromptTemplate, PromptTemplate\n",
    "from langchain_community.llms.ollama import Ollama\n",
    "from langchain.llms.openai import OpenAIChat\n",
    "from langchain_core.output_parsers.string import StrOutputParser\n",
    "import pandas as pd\n",
    "from IPython.display import display, Markdown\n",
    "llm = Ollama(model=\"phi3:latest\", num_ctx=4096, num_predict=1024, temperature=0.1)\n",
    "#llm = OpenAIChat(model=\"gpt-4\", temperature=0.1)"
   ]
  },
  {
   "cell_type": "code",
   "execution_count": 102,
   "metadata": {},
   "outputs": [],
   "source": [
    "question = \"How to establish the genealogy of the families in the graph?\""
   ]
  },
  {
   "cell_type": "markdown",
   "metadata": {},
   "source": [
    "# Tree of thoughts"
   ]
  },
  {
   "cell_type": "code",
   "execution_count": 66,
   "metadata": {},
   "outputs": [
    {
     "name": "stdout",
     "output_type": "stream",
     "text": [
      "Graph length: 427\n"
     ]
    }
   ],
   "source": [
    "import json\n",
    "\n",
    "def load_graph(file):\n",
    "    with open(file) as f:\n",
    "        data = json.load(f)\n",
    "\n",
    "    text = \"```mermaid\\ngraph LR\\n\"\n",
    "    for item in data[\"links\"]:\n",
    "        text += f'\\t{item[\"source\"]} -- {item[\"value\"]} --> {item[\"target\"]}\\n'\n",
    "    text += \"```\"\n",
    "    return text\n",
    "text = load_graph(\"miserables_1.json\")\n",
    "\n",
    "graph_length = len(text)\n",
    "\n",
    "print(f\"Graph length: {graph_length}\")\n"
   ]
  },
  {
   "cell_type": "markdown",
   "metadata": {},
   "source": [
    "```mermaid\n",
    "graph LR;\n",
    "    A[Process Inputs] --> B[Create Thoughts];\n",
    "    B --> C[Evaluate Pathways];\n",
    "    C --> D[Summarize Results];\n",
    "    D --> E[Formulate Conclusions];\n",
    "```"
   ]
  },
  {
   "cell_type": "code",
   "execution_count": 74,
   "metadata": {},
   "outputs": [
    {
     "data": {
      "text/plain": [
       "'```mermaid\\ngraph LR\\n\\tNapoleon -- 1 --> Myriel\\n\\tMlle.Baptistine -- 8 --> Myriel\\n\\tMme.Magloire -- 10 --> Myriel\\n\\tMme.Magloire -- 6 --> Mlle.Baptistine\\n\\tCountessdeLo -- 1 --> Myriel\\n\\tGeborand -- 1 --> Myriel\\n\\tChamptercier -- 1 --> Myriel\\n\\tCravatte -- 1 --> Myriel\\n\\tCount -- 2 --> Myriel\\n\\tOldMan -- 1 --> Myriel\\n\\tValjean -- 1 --> Labarre\\n\\tValjean -- 3 --> Mme.Magloire\\n\\tValjean -- 3 --> Mlle.Baptistine\\n\\tValjean -- 5 --> Myriel\\n```'"
      ]
     },
     "metadata": {},
     "output_type": "display_data"
    }
   ],
   "source": [
    "#display(Markdown(text))\n",
    "display(text)"
   ]
  },
  {
   "cell_type": "markdown",
   "metadata": {},
   "source": [
    "# Process inputs"
   ]
  },
  {
   "cell_type": "code",
   "execution_count": 73,
   "metadata": {},
   "outputs": [],
   "source": [
    "prompt_process_inputs = PromptTemplate.from_template(\"\"\"\n",
    "## 1. Process inputs:\n",
    "    Given the following data, expressed as Mermaid graph. \n",
    "    Please count the number of nodes and links in the graph.\n",
    "### Graph\n",
    "```mermaid\n",
    "{graph}\n",
    "```\n",
    "### Question\n",
    "{question}\n",
    "                                                         \n",
    "\"\"\")\n",
    "\n",
    "chain  = prompt_process_inputs | llm | StrOutputParser()"
   ]
  },
  {
   "cell_type": "code",
   "execution_count": 72,
   "metadata": {},
   "outputs": [
    {
     "data": {
      "text/markdown": [
       "In the given Mermaid graph, there are a total of **9 nodes** and **10 links**. Here's the breakdown:\n",
       "\n",
       "Nodes (vertices):\n",
       "- Napoleon\n",
       "- Mlle.Baptistine\n",
       "- Mme.Magloire\n",
       "- CountessdeLo\n",
       "- Geborand\n",
       "- Champtercier\n",
       "- Cravatte\n",
       "- Myriel\n",
       "- Valjean\n",
       "- Labarre\n",
       "\n",
       "Links (edges):\n",
       "1. Napoleon --> Myriel\n",
       "2. Mlle.Baptistine --> Myriel\n",
       "3. Mme.Magloire --> Myriel\n",
       "4. Mme.Magloire --> Mlle.Baptistine\n",
       "5. CountessdeLo --> Myriel\n",
       "6. Geborand --> Myriel\n",
       "7. Champtercier --> Myriel\n",
       "8. Cravatte --> Myriel\n",
       "9. Count --> Myriel\n",
       "1 CVajan -- Myriel\n",
       "10. Valjean --> Labarre\n",
       "11. Valjean --> Mme.Magloire\n",
       "12. Valjean --> Mlle.Baptistine\n",
       "13. Valjean --> Myriel\n",
       "\n",
       "So, there are 9 nodes and 10 links in the graph."
      ],
      "text/plain": [
       "<IPython.core.display.Markdown object>"
      ]
     },
     "metadata": {},
     "output_type": "display_data"
    }
   ],
   "source": [
    "processedData =  chain.invoke({\n",
    "    \"graph\": text,\n",
    "    \"question\": question\n",
    "})\n",
    "\n",
    "display(Markdown(processedData))"
   ]
  },
  {
   "cell_type": "markdown",
   "metadata": {},
   "source": [
    "# List Toughts"
   ]
  },
  {
   "cell_type": "code",
   "execution_count": 75,
   "metadata": {},
   "outputs": [],
   "source": [
    "prompt_create_toughts = ChatPromptTemplate.from_template(\"\"\"\n",
    "## 2. Create list of toughts:\n",
    "    Given the processed data, please create a list of toughts that you have about the data.\n",
    "    Only list the that are relevant to the data and user question: {question}\n",
    "    Do not answer the question yet.\n",
    "    Please format your output as a 'JSON' array of strings.\n",
    "### Processed data\n",
    "{data}\n",
    "                                                         \n",
    "### Question\n",
    "{question}\n",
    "                                                         \n",
    "\"\"\")\n",
    "\n",
    "chain_toughts  = prompt_create_toughts | llm | StrOutputParser()"
   ]
  },
  {
   "cell_type": "code",
   "execution_count": 79,
   "metadata": {},
   "outputs": [],
   "source": [
    "listOfThoughts = chain_toughts.invoke({\n",
    "    \"data\": processedData,\n",
    "    \"question\": question\n",
    "    })"
   ]
  },
  {
   "cell_type": "code",
   "execution_count": 81,
   "metadata": {},
   "outputs": [
    {
     "data": {
      "text/markdown": [
       "```json\n",
       "[\n",
       "    \"To establish the genealogy of the families, one must analyze the connections between individuals and identify familial relationships.\",\n",
       "    \"The nodes represent individual family members or entities within the graph.\",\n",
       "    \"Links (edges) indicate a relationship or connection that could suggest a familial tie.\",\n",
       "    \"Valjean's multiple links to various nodes may imply his role as an ancestor or relative in this genealogy.\",\n",
       "    \"Myriel appears at several points, suggesting he might be central to the family structure within the graph.\"\n",
       "]\n",
       "```"
      ],
      "text/plain": [
       "<IPython.core.display.Markdown object>"
      ]
     },
     "metadata": {},
     "output_type": "display_data"
    }
   ],
   "source": [
    "display(Markdown(listOfThoughts))"
   ]
  },
  {
   "cell_type": "markdown",
   "metadata": {},
   "source": [
    "#### Loop over elements"
   ]
  },
  {
   "cell_type": "code",
   "execution_count": 96,
   "metadata": {},
   "outputs": [
    {
     "name": "stdout",
     "output_type": "stream",
     "text": [
      "To establish the genealogy of the families, one must analyze the connections between individuals and identify familial relationships.\n",
      "The nodes represent individual family members or entities within the graph.\n",
      "Links (edges) indicate a relationship or connection that could suggest a familial tie.\n",
      "Valjean's multiple links to various nodes may imply his role as an ancestor or relative in this genealogy.\n",
      "Myriel appears at several points, suggesting he might be central to the family structure within the graph.\n"
     ]
    }
   ],
   "source": [
    "array = json.loads(listOfThoughts.replace(\"```json\", \"\").replace(\"```\", \"\"))\n",
    "results = []\n",
    "for item in array:\n",
    "    results.append(listOfThoughts.invoke(item))"
   ]
  },
  {
   "cell_type": "markdown",
   "metadata": {},
   "source": [
    "## Evaluate Pathways"
   ]
  },
  {
   "cell_type": "code",
   "execution_count": 82,
   "metadata": {},
   "outputs": [
    {
     "data": {
      "text/markdown": [
       "```markdown\n",
       "\n",
       "To evaluate pathways for establishing the genealogy of the families in the given graph, we can follow these steps:\n",
       "\n",
       "1. **Identify Key Nodes**: Begin by identifying nodes that appear multiple times or have numerous connections to other nodes as they may represent central figures like Myriel and Valjean.\n",
       "\n",
       "2. **Analyze Direct Connections**: Examine direct links (edges) between individuals, such as the ones connecting Napoleon, Mlle. Baptistine, Mme. Magloire, Countess de Lo, Geborand, Champtercier, Cravatte, and Myriel to determine immediate familial relationships.\n",
       "\n",
       "3. **Trace Ancestral Links**: Look for patterns where individuals like Valjean are connected to multiple nodes (e.g., Mme. Magloire, Mlle. Baptistine), which could indicate ancestral or relative ties.\n",
       "\n",
       "4. **Consider Relative Proximity and Frequency of Connections**: The number of connections a node has can suggest the prominence of an individual within the family structure. For instance, Myriel's numerous links may imply his central role in this genealogy.\n",
       "\n",
       "5. **Map Out Family Tree Structure**: Based on the analysis above, begin to map out potential relationships and construct a tree-like diagram that represents the families' genealogy within the graph.\n",
       "\n",
       "6. **Validate Relationships**: Cross-reference identified familial connections with historical or contextual information (if available) to validate the proposed genealogical pathways.\n",
       "\n",
       "```"
      ],
      "text/plain": [
       "<IPython.core.display.Markdown object>"
      ]
     },
     "metadata": {},
     "output_type": "display_data"
    }
   ],
   "source": [
    "prompt_evaluate = ChatPromptTemplate.from_template(\"\"\"\n",
    "## 3. Evaluate pathways:\n",
    "    Given the thoughts and the data, please evaluate the pathways to  {question}.\n",
    "    DO NOT answer the question yet.\n",
    "    DO ONLY format your output as 'markdown'.\n",
    "                                                   \n",
    "### Processed data\n",
    "{data}\n",
    "                                                   \n",
    "### List of thoughts\n",
    "{thoughts}\n",
    "                                                         \n",
    "### Question\n",
    "{question}\n",
    "\n",
    "\"\"\")\n",
    "\n",
    "chain_evaluate  = prompt_evaluate | llm | StrOutputParser()\n",
    "evaluation = chain_evaluate.invoke({\n",
    "    \"data\": text,\n",
    "    \"thoughts\": listOfThoughts,\n",
    "    \"question\": question\n",
    "    })\n",
    "\n",
    "display(Markdown(evaluation))"
   ]
  },
  {
   "cell_type": "markdown",
   "metadata": {},
   "source": [
    "## Synthesize Pathway Evaluation"
   ]
  },
  {
   "cell_type": "code",
   "execution_count": 97,
   "metadata": {},
   "outputs": [],
   "source": [
    "prompt_synthesize_evaluate = ChatPromptTemplate.from_template(\"\"\"\n",
    "## 4. Evaluate pathways:\n",
    "    Synthesize the data gathered from the inputs, thoughts list, and evaluation pathways\n",
    "    Create a comprehensive plan for answering the question: {question}.\n",
    "    DO NOT answer the question yet.\n",
    "    DO ONLY format your output as 'JSON' dictionary of key value pairs.\n",
    "                                                              \n",
    "                                                   \n",
    "### Processed data\n",
    "{data}\n",
    "                                                   \n",
    "### List of thoughts\n",
    "{thoughts}\n",
    "\n",
    "### Pathways evaluation\n",
    "{evaluation}\n",
    "                                                         \n",
    "### Question\n",
    "{question}\n",
    "\n",
    "\"\"\")\n",
    "\n",
    "chain_synthesize_evaluate  = prompt_synthesize_evaluate | llm | StrOutputParser()\n",
    "synthesis = chain_synthesize_evaluate.invoke({\n",
    "    \"data\": text,\n",
    "    \"thoughts\": listOfThoughts,\n",
    "    \"evaluation\": evaluation,\n",
    "    \"question\": question\n",
    "    })\n"
   ]
  },
  {
   "cell_type": "code",
   "execution_count": 98,
   "metadata": {},
   "outputs": [
    {
     "data": {
      "text/markdown": [
       "```json\n",
       "{\n",
       "    \"key_thoughts\": [\n",
       "        \"Identify central figures\",\n",
       "        \"Analyze direct familial connections\",\n",
       "        \"Trace ancestral links\",\n",
       "        \"Consider relative prominence\",\n",
       "        \"Map family tree structure\",\n",
       "        \"Validate relationships\"\n",
       "    ],\n",
       "    \"evaluation_pathways\": [\n",
       "        {\n",
       "            \"step\": \"Identify Key Nodes\",\n",
       "            \"description\": \"Central figures like Myriel and Valjean are identified due to multiple connections.\"\n",
       "        },\n",
       "        {\n",
       "            \"step\": \"Analyze Direct Connections\",\n",
       "            \"description\": \"Examine direct links between individuals for immediate familial relationships.\"\n",
       "        },\n",
       "        {\n",
       "            \"step\": \"Trace Ancestral Links\",\n",
       "            \"description\": \"Look for patterns where Valjean is connected to multiple nodes, indicating ancestral ties.\"\n",
       "        },\n",
       "        {\n",
       "            \"step\": \"Consider Relative Proximity and Frequency of Connections\",\n",
       "            \"description\": \"Assess the number of connections a node has as an indicator of individual prominence within the family structure.\"\n",
       "        },\n",
       "        {\n",
       "            \"step\": \"Map Out Family Tree Structure\",\n",
       "            \"description\": \"Construct a tree-like diagram representing the genealogy based on analyzed data.\"\n",
       "        },\n",
       "        {\n",
       "            \"step\": \"Validate Relationships\",\n",
       "            \"description\": \"Cross-reference identified connections with historical or contextual information to confirm accuracy.\"\n",
       "        }\n",
       "    ]\n",
       "}\n",
       "```"
      ],
      "text/plain": [
       "<IPython.core.display.Markdown object>"
      ]
     },
     "metadata": {},
     "output_type": "display_data"
    }
   ],
   "source": [
    "\n",
    "display(Markdown(synthesis))"
   ]
  },
  {
   "cell_type": "markdown",
   "metadata": {},
   "source": [
    "## Formulate Conclusions"
   ]
  },
  {
   "cell_type": "code",
   "execution_count": 107,
   "metadata": {},
   "outputs": [
    {
     "data": {
      "text/markdown": [
       "To establish the genealogy of families in a graph, follow these steps:\n",
       "\n",
       "1. **Identify Key Figures**: Begin by pinpointing central individuals who have numerous connections with other nodes within the graph. These key figures often represent ancestors or influential family members whose relationships span across various branches.\n",
       "\n",
       "2. **Analyze Direct Connections**: Next, analyze direct familial links between pairs of nodes to determine parent-child and sibling relationships. Look for patterns such as repeated interactions that suggest a strong likelihood of kinship.\n",
       "\n",
       "3. **Trace Ancestral Links**: Finally, trace ancestral connections by identifying recurring nodes that are connected to multiple individuals in the graph. These nodes likely represent common ancestors whose lineage can be traced through various family branches within the graph.\n",
       "\n",
       "By following these steps, you will be able to construct a comprehensive genealogy of families depicted in the graph."
      ],
      "text/plain": [
       "<IPython.core.display.Markdown object>"
      ]
     },
     "metadata": {},
     "output_type": "display_data"
    }
   ],
   "source": [
    "prompt_formulate = ChatPromptTemplate.from_template(\"\"\"\n",
    "## 5. Formulate answer:\n",
    "    Given the synthesized data, please formulate a final answer to the question: {question}.\n",
    "    DO NOT mention thoughts or evaluation pathways, only formulate the final answer to the user.\n",
    "    DO create a comprehensive and engaging article using markdown syntax, with sections and subsections.\n",
    "                                                   \n",
    "### Synthesis                                   \n",
    "{synthesis}\n",
    "                                                         \n",
    "### Question\n",
    "{question}\n",
    "\n",
    "\"\"\")\n",
    "\n",
    "chain_formulate  = prompt_formulate | llm | StrOutputParser()\n",
    "synthesis = chain_formulate.invoke({\n",
    "    \"synthesis\": synthesis,\n",
    "    \"question\": question\n",
    "    })\n",
    "\n",
    "display(Markdown(synthesis))"
   ]
  }
 ],
 "metadata": {
  "kernelspec": {
   "display_name": "unsloth_env",
   "language": "python",
   "name": "python3"
  },
  "language_info": {
   "codemirror_mode": {
    "name": "ipython",
    "version": 3
   },
   "file_extension": ".py",
   "mimetype": "text/x-python",
   "name": "python",
   "nbconvert_exporter": "python",
   "pygments_lexer": "ipython3",
   "version": "3.12.3"
  }
 },
 "nbformat": 4,
 "nbformat_minor": 2
}
